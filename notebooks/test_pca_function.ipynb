{
  "nbformat": 4,
  "nbformat_minor": 0,
  "metadata": {
    "colab": {
      "provenance": []
    },
    "kernelspec": {
      "name": "python3",
      "display_name": "Python 3"
    },
    "language_info": {
      "name": "python"
    }
  },
  "cells": [
    {
      "cell_type": "code",
      "execution_count": 1,
      "metadata": {
        "id": "XPHx7mrTxrfL"
      },
      "outputs": [],
      "source": [
        "import pandas as pd\n",
        "import numpy as np\n",
        "\n",
        "from sklearn.decomposition import PCA\n",
        "\n",
        "from covariance import covariance\n",
        "from get_covariance_matrix import get_covariance_matrix\n",
        "from get_eigen import get_eigen\n",
        "from get_mean_values import get_mean_values\n",
        "from qr_decomposition import qr_decomposition"
      ]
    },
    {
      "cell_type": "code",
      "source": [
        "df = pd.read_csv('data.csv')"
      ],
      "metadata": {
        "id": "-ZGfAFnVxvDq"
      },
      "execution_count": 2,
      "outputs": []
    },
    {
      "cell_type": "code",
      "source": [
        "cov_mat = get_covariance_matrix(df)\n",
        "cov_mat"
      ],
      "metadata": {
        "colab": {
          "base_uri": "https://localhost:8080/"
        },
        "id": "uNOqFQAQNFAR",
        "outputId": "34d13cd3-840d-418e-e7ea-0d655460dfcc"
      },
      "execution_count": 26,
      "outputs": [
        {
          "output_type": "execute_result",
          "data": {
            "text/plain": [
              "array([[ 1.01010101, -0.16508366,  0.04531947, -0.10286083, -0.12745817],\n",
              "       [-0.16508366,  1.01010101,  0.1240043 ,  0.03860081,  0.05773273],\n",
              "       [ 0.04531947,  0.1240043 ,  1.01010101,  0.00861068,  0.04325191],\n",
              "       [-0.10286083,  0.03860081,  0.00861068,  1.01010101,  0.01854391],\n",
              "       [-0.12745817,  0.05773273,  0.04325191,  0.01854391,  1.01010101]])"
            ]
          },
          "metadata": {},
          "execution_count": 26
        }
      ]
    },
    {
      "cell_type": "code",
      "source": [
        "import pandas as pd\n",
        "import numpy as np\n",
        "\n",
        "from covariance import covariance\n",
        "from get_covariance_matrix import get_covariance_matrix\n",
        "from get_eigen import get_eigen\n",
        "from get_mean_values import get_mean_values\n",
        "from qr_decomposition import qr_decomposition\n",
        "\n",
        "def pca(X , n_components):\n",
        "  \"\"\"\n",
        "  Perform Principal Component Analysis (PCA) on the dataset.\n",
        "\n",
        "  Args:\n",
        "  X : array-like, shape (n_samples, n_features)\n",
        "      The data matrix, where n_samples is the number of samples and n_features is the number of features.\n",
        "  n_components : int\n",
        "      The number of principal components to return.\n",
        "\n",
        "  Returns:\n",
        "  X_reduced: array-like, shape (n_samples, n_components)\n",
        "      The transformed data matrix with reduced dimensions.\n",
        "\n",
        "  Notes:\n",
        "  - The input data matrix `X` should be standardized (i.e., rescaled to have mean zero and variance one) if the features are on different scales.\n",
        "  - Each column of the returned eigenvector matrix corresponds to an eigenvector.\n",
        "  \"\"\"\n",
        "  X_centered = X - np.mean(X, axis=0)\n",
        "  cov_mat = get_covariance_matrix(X_centered)\n",
        "\n",
        "  eigenvalues, eigenvectors = get_eigen(cov_mat)\n",
        "\n",
        "  # Note: Each column of `eigenvectors` corresponds to an eigenvector.\n",
        "\n",
        "  sorted_indices = np.argsort(eigenvalues)[::-1]\n",
        "  eigenvalues = eigenvalues[sorted_indices]\n",
        "  eigenvectors = eigenvectors[:, sorted_indices]\n",
        "  eigenvectors = eigenvectors[:, :n_components]\n",
        "\n",
        "  X_reduced = np.dot(X_centered, eigenvectors)\n",
        "\n",
        "  return X_reduced"
      ],
      "metadata": {
        "colab": {
          "base_uri": "https://localhost:8080/"
        },
        "id": "6sEoNy9aNJOa",
        "outputId": "119d2d01-9484-4a81-913c-698de231d5a2"
      },
      "execution_count": 43,
      "outputs": [
        {
          "output_type": "stream",
          "name": "stdout",
          "text": [
            "Overwriting pca.py\n"
          ]
        }
      ]
    },
    {
      "cell_type": "code",
      "source": [],
      "metadata": {
        "id": "ERTOv7BHREuL"
      },
      "execution_count": null,
      "outputs": []
    }
  ]
}