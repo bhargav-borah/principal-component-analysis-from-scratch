{
  "nbformat": 4,
  "nbformat_minor": 0,
  "metadata": {
    "colab": {
      "provenance": []
    },
    "kernelspec": {
      "name": "python3",
      "display_name": "Python 3"
    },
    "language_info": {
      "name": "python"
    }
  },
  "cells": [
    {
      "cell_type": "markdown",
      "source": [
        "# Calculation of Mean of Each Feature"
      ],
      "metadata": {
        "id": "lXX1EpsliZ3q"
      }
    },
    {
      "cell_type": "code",
      "source": [
        "import numpy as np\n",
        "import pandas as pd"
      ],
      "metadata": {
        "id": "XB53Tfrqin_E"
      },
      "execution_count": 2,
      "outputs": []
    },
    {
      "cell_type": "code",
      "source": [
        "df = pd.read_csv('data.csv')"
      ],
      "metadata": {
        "id": "rG4fUllAiukz"
      },
      "execution_count": 3,
      "outputs": []
    },
    {
      "cell_type": "code",
      "source": [
        "for i, feature in enumerate(df.columns):\n",
        "  print('Feature ' + str(i) + ' mean = ', df[feature].mean())"
      ],
      "metadata": {
        "colab": {
          "base_uri": "https://localhost:8080/"
        },
        "id": "ru3eakyUlsRw",
        "outputId": "7c0b4602-5e0c-4107-a126-e383f2c84363"
      },
      "execution_count": 5,
      "outputs": [
        {
          "output_type": "stream",
          "name": "stdout",
          "text": [
            "Feature 0 mean =  -2.2204460492503132e-17\n",
            "Feature 1 mean =  -3.3306690738754695e-17\n",
            "Feature 2 mean =  -9.71445146547012e-19\n",
            "Feature 3 mean =  -4.218847493575595e-17\n",
            "Feature 4 mean =  9.325873406851315e-17\n"
          ]
        }
      ]
    },
    {
      "cell_type": "code",
      "source": [
        "%%writefile get_mean_values.py\n",
        "import pandas as pd\n",
        "\n",
        "def get_mean_values(df: pd.DataFrame):\n",
        "  \"\"\"\n",
        "  Calculate the mean values of each column in the DataFrame.\n",
        "\n",
        "  Parameters:\n",
        "  df (pd.DataFrame): The input DataFrame for which the mean values of each column are to be calculated.\n",
        "\n",
        "  Returns:\n",
        "  mean_values: A list containing the mean value of each column in the same order as the columns in the DataFrame.\n",
        "  \"\"\"\n",
        "  mean_values = []\n",
        "\n",
        "  for feature in df.columns:\n",
        "    mean_values.append(df[feature].mean())\n",
        "\n",
        "  return mean_values"
      ],
      "metadata": {
        "colab": {
          "base_uri": "https://localhost:8080/"
        },
        "id": "djSQziMkls2Y",
        "outputId": "60f49d4e-5e6d-472f-9535-0705fd59e07f"
      },
      "execution_count": 14,
      "outputs": [
        {
          "output_type": "stream",
          "name": "stdout",
          "text": [
            "Writing get_mean_values.py\n"
          ]
        }
      ]
    },
    {
      "cell_type": "code",
      "source": [
        "get_mean_values(df)"
      ],
      "metadata": {
        "colab": {
          "base_uri": "https://localhost:8080/"
        },
        "id": "d9hhdfcfmFz2",
        "outputId": "0930f499-3427-4bf6-a10e-990316d8f622"
      },
      "execution_count": 12,
      "outputs": [
        {
          "output_type": "execute_result",
          "data": {
            "text/plain": [
              "[-2.2204460492503132e-17,\n",
              " -3.3306690738754695e-17,\n",
              " -9.71445146547012e-19,\n",
              " -4.218847493575595e-17,\n",
              " 9.325873406851315e-17]"
            ]
          },
          "metadata": {},
          "execution_count": 12
        }
      ]
    },
    {
      "cell_type": "code",
      "source": [],
      "metadata": {
        "id": "4tMcdP3VmfUh"
      },
      "execution_count": null,
      "outputs": []
    }
  ]
}