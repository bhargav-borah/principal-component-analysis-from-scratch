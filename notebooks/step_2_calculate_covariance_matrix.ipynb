{
  "nbformat": 4,
  "nbformat_minor": 0,
  "metadata": {
    "colab": {
      "provenance": []
    },
    "kernelspec": {
      "name": "python3",
      "display_name": "Python 3"
    },
    "language_info": {
      "name": "python"
    }
  },
  "cells": [
    {
      "cell_type": "code",
      "execution_count": 1,
      "metadata": {
        "id": "-m_RkK2VsIRy"
      },
      "outputs": [],
      "source": [
        "import pandas as pd\n",
        "import numpy as np"
      ]
    },
    {
      "cell_type": "code",
      "source": [
        "df = pd.read_csv('data.csv')"
      ],
      "metadata": {
        "id": "RMD9AfRTsbP5"
      },
      "execution_count": 2,
      "outputs": []
    },
    {
      "cell_type": "code",
      "source": [
        "np.cov(df.T)"
      ],
      "metadata": {
        "colab": {
          "base_uri": "https://localhost:8080/"
        },
        "id": "BPOlSonwspI8",
        "outputId": "12905ba9-1c1d-4661-d6ac-de4521cbdfba"
      },
      "execution_count": 6,
      "outputs": [
        {
          "output_type": "execute_result",
          "data": {
            "text/plain": [
              "array([[ 1.01010101, -0.16508366,  0.04531947, -0.10286083, -0.12745817],\n",
              "       [-0.16508366,  1.01010101,  0.1240043 ,  0.03860081,  0.05773273],\n",
              "       [ 0.04531947,  0.1240043 ,  1.01010101,  0.00861068,  0.04325191],\n",
              "       [-0.10286083,  0.03860081,  0.00861068,  1.01010101,  0.01854391],\n",
              "       [-0.12745817,  0.05773273,  0.04325191,  0.01854391,  1.01010101]])"
            ]
          },
          "metadata": {},
          "execution_count": 6
        }
      ]
    },
    {
      "cell_type": "code",
      "source": [
        "def covariance(feature_1: pd.Series, feature_2: pd.Series):\n",
        "\n",
        "  mean_1 = feature_1.mean()\n",
        "  mean_2 = feature_2.mean()\n",
        "\n",
        "  N = len(feature_1)\n",
        "\n",
        "  sum = 0\n",
        "\n",
        "  for i in range(N):\n",
        "    sum += (feature_1[i] - mean_1) * (feature_2[i] - mean_2)\n",
        "\n",
        "  return sum / (N - 1)"
      ],
      "metadata": {
        "id": "ipQoIZTqstzF"
      },
      "execution_count": 10,
      "outputs": []
    },
    {
      "cell_type": "code",
      "source": [
        "def get_covariance_matrix(df: pd.DataFrame):\n",
        "\n",
        "  N = len(df.columns)\n",
        "\n",
        "  cov_matrix = np.zeros((N, N))\n",
        "\n",
        "  for i, feature_1 in enumerate(df.columns):\n",
        "    for j, feature_2 in enumerate(df.columns):\n",
        "      cov_matrix[i, j] = covariance(df[feature_1], df[feature_2])\n",
        "\n",
        "  return cov_matrix"
      ],
      "metadata": {
        "id": "QSGt8tTitr_m"
      },
      "execution_count": 25,
      "outputs": []
    },
    {
      "cell_type": "code",
      "source": [
        "get_covariance_matrix(df)"
      ],
      "metadata": {
        "colab": {
          "base_uri": "https://localhost:8080/"
        },
        "id": "sBHeOenmtuMh",
        "outputId": "cb7f2247-c918-4410-db06-361f6ae7c643"
      },
      "execution_count": 26,
      "outputs": [
        {
          "output_type": "execute_result",
          "data": {
            "text/plain": [
              "array([[ 1.01010101, -0.16508366,  0.04531947, -0.10286083, -0.12745817],\n",
              "       [-0.16508366,  1.01010101,  0.1240043 ,  0.03860081,  0.05773273],\n",
              "       [ 0.04531947,  0.1240043 ,  1.01010101,  0.00861068,  0.04325191],\n",
              "       [-0.10286083,  0.03860081,  0.00861068,  1.01010101,  0.01854391],\n",
              "       [-0.12745817,  0.05773273,  0.04325191,  0.01854391,  1.01010101]])"
            ]
          },
          "metadata": {},
          "execution_count": 26
        }
      ]
    },
    {
      "cell_type": "code",
      "source": [],
      "metadata": {
        "id": "FZR3GCWfvikF"
      },
      "execution_count": null,
      "outputs": []
    }
  ]
}