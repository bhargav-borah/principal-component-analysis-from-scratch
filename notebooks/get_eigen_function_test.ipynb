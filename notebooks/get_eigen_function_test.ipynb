{
  "nbformat": 4,
  "nbformat_minor": 0,
  "metadata": {
    "colab": {
      "provenance": []
    },
    "kernelspec": {
      "name": "python3",
      "display_name": "Python 3"
    },
    "language_info": {
      "name": "python"
    }
  },
  "cells": [
    {
      "cell_type": "code",
      "execution_count": 6,
      "metadata": {
        "id": "SnWQBQfLgR43"
      },
      "outputs": [],
      "source": [
        "import numpy as np\n",
        "import pandas as pd\n",
        "\n",
        "from qr_decomposition import qr_decomposition"
      ]
    },
    {
      "cell_type": "code",
      "source": [
        "%%writefile get_eigen.py\n",
        "import numpy as np\n",
        "\n",
        "def get_eigen(A, max_iterations=10000, tolerance=1e-10):\n",
        "  m, n = A.shape\n",
        "  assert m == n, \"Matrix must be square\"\n",
        "\n",
        "  Q_total = np.eye(n)\n",
        "  A_k = A.copy()\n",
        "\n",
        "  for i in range(max_iterations):\n",
        "    Q, R = qr_decomposition(A_k)\n",
        "    A_k = R @ Q\n",
        "    Q_total = Q_total @ Q\n",
        "\n",
        "    off_diagonal_norm = np.sqrt(np.sum(np.tril(A_k, -1) ** 2))\n",
        "    if off_diagonal_norm < tolerance:\n",
        "      break\n",
        "\n",
        "  eigenvalues = np.diag(A_k)\n",
        "  eigenvectors = Q_total\n",
        "\n",
        "  return eigenvalues, eigenvectors"
      ],
      "metadata": {
        "colab": {
          "base_uri": "https://localhost:8080/"
        },
        "id": "X10vS4uQg0WO",
        "outputId": "e27d3919-44c8-4126-b501-dd904505ae01"
      },
      "execution_count": 27,
      "outputs": [
        {
          "output_type": "stream",
          "name": "stdout",
          "text": [
            "Writing get_eigen.py\n"
          ]
        }
      ]
    },
    {
      "cell_type": "code",
      "source": [
        "t = np.array([[1, 2, 3],\n",
        "              [8, 3, -10],\n",
        "              [39, 4, 1]], dtype=np.float64)\n",
        "\n",
        "np.linalg.eig(t)"
      ],
      "metadata": {
        "colab": {
          "base_uri": "https://localhost:8080/"
        },
        "id": "WiJ0WwOJie_T",
        "outputId": "cb797d2d-0f1c-40e1-d0e9-1a34f2569835"
      },
      "execution_count": 25,
      "outputs": [
        {
          "output_type": "execute_result",
          "data": {
            "text/plain": [
              "EigResult(eigenvalues=array([-11.04630087+0.j        ,   8.02315044+5.18472028j,\n",
              "         8.02315044-5.18472028j]), eigenvectors=array([[ 0.28302651+0.j        , -0.08753757-0.14749575j,\n",
              "        -0.08753757+0.14749575j],\n",
              "       [-0.65799137+0.j        ,  0.73019231+0.j        ,\n",
              "         0.73019231-0.j        ],\n",
              "       [-0.69781326+0.j        , -0.43681664-0.49658089j,\n",
              "        -0.43681664+0.49658089j]]))"
            ]
          },
          "metadata": {},
          "execution_count": 25
        }
      ]
    },
    {
      "cell_type": "code",
      "source": [
        "get_eigen(t)"
      ],
      "metadata": {
        "colab": {
          "base_uri": "https://localhost:8080/"
        },
        "id": "8m2qxleNirux",
        "outputId": "27cc4e9b-67ad-4e73-a49d-31c384bba059"
      },
      "execution_count": 23,
      "outputs": [
        {
          "output_type": "execute_result",
          "data": {
            "text/plain": [
              "(array([-11.04630087,  17.84111529,  -1.79481442]),\n",
              " array([[-0.28302651,  0.86017713, -0.42425382],\n",
              "        [ 0.65799137, -0.14769063, -0.73840019],\n",
              "        [ 0.69781326,  0.48814218,  0.52418876]]))"
            ]
          },
          "metadata": {},
          "execution_count": 23
        }
      ]
    },
    {
      "cell_type": "code",
      "source": [
        "get_eigen(t)"
      ],
      "metadata": {
        "colab": {
          "base_uri": "https://localhost:8080/"
        },
        "id": "uXnYsZZIitRi",
        "outputId": "7c550743-1b79-443b-cee9-95a3015d65e0"
      },
      "execution_count": 26,
      "outputs": [
        {
          "output_type": "execute_result",
          "data": {
            "text/plain": [
              "(array([-11.04630087,  17.84111529,  -1.79481442]),\n",
              " array([[ 0.28302651,  0.86017713, -0.42425382],\n",
              "        [-0.65799137, -0.14769063, -0.73840019],\n",
              "        [-0.69781326,  0.48814218,  0.52418876]]))"
            ]
          },
          "metadata": {},
          "execution_count": 26
        }
      ]
    },
    {
      "cell_type": "code",
      "source": [],
      "metadata": {
        "id": "14t9om3Kq2n0"
      },
      "execution_count": null,
      "outputs": []
    }
  ]
}