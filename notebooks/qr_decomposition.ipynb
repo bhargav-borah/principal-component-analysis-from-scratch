{
  "nbformat": 4,
  "nbformat_minor": 0,
  "metadata": {
    "colab": {
      "provenance": []
    },
    "kernelspec": {
      "name": "python3",
      "display_name": "Python 3"
    },
    "language_info": {
      "name": "python"
    }
  },
  "cells": [
    {
      "cell_type": "code",
      "execution_count": 2,
      "metadata": {
        "id": "uutqIwcOmuCk"
      },
      "outputs": [],
      "source": [
        "import pandas as pd\n",
        "import numpy as np\n",
        "\n",
        "from get_covariance_matrix import get_covariance_matrix"
      ]
    },
    {
      "cell_type": "code",
      "source": [
        "df = pd.read_csv('data.csv')"
      ],
      "metadata": {
        "id": "F7LEnzW6m0PY"
      },
      "execution_count": 3,
      "outputs": []
    },
    {
      "cell_type": "code",
      "source": [
        "mat = get_covariance_matrix(df)"
      ],
      "metadata": {
        "id": "ydQeyZSnnBfH"
      },
      "execution_count": 5,
      "outputs": []
    },
    {
      "cell_type": "code",
      "source": [
        "np.linalg.eigvals(mat)"
      ],
      "metadata": {
        "colab": {
          "base_uri": "https://localhost:8080/"
        },
        "id": "xY4XU7zEnDPk",
        "outputId": "4982fdff-fdef-4e26-e172-f440abab9fdd"
      },
      "execution_count": 6,
      "outputs": [
        {
          "output_type": "execute_result",
          "data": {
            "text/plain": [
              "array([1.29838276, 0.75827241, 1.07436197, 0.93219883, 0.98728909])"
            ]
          },
          "metadata": {},
          "execution_count": 6
        }
      ]
    },
    {
      "cell_type": "code",
      "source": [
        "np.linalg.eig(mat)"
      ],
      "metadata": {
        "colab": {
          "base_uri": "https://localhost:8080/"
        },
        "id": "WY_Sz6vgnMPg",
        "outputId": "53b4d133-572c-4964-aeb4-06cb55e6ecc7"
      },
      "execution_count": 8,
      "outputs": [
        {
          "output_type": "execute_result",
          "data": {
            "text/plain": [
              "EigResult(eigenvalues=array([1.29838276, 0.75827241, 1.07436197, 0.93219883, 0.98728909]), eigenvectors=array([[-0.59038329,  0.6409096 , -0.38571805,  0.28590071, -0.10082079],\n",
              "       [ 0.56246494,  0.54855744, -0.31188357, -0.52463026, -0.10104281],\n",
              "       [ 0.22286381, -0.43617408, -0.79972575,  0.29388571, -0.1848075 ],\n",
              "       [ 0.32013518,  0.17341084,  0.33542135,  0.46633732, -0.73311948],\n",
              "       [ 0.42769843,  0.260769  ,  0.04337599,  0.58239554,  0.63875468]]))"
            ]
          },
          "metadata": {},
          "execution_count": 8
        }
      ]
    },
    {
      "cell_type": "code",
      "source": [
        "mat"
      ],
      "metadata": {
        "colab": {
          "base_uri": "https://localhost:8080/"
        },
        "id": "jn7diIjGrGo2",
        "outputId": "f8837e05-6f38-4576-8815-d7c24582acd8"
      },
      "execution_count": 9,
      "outputs": [
        {
          "output_type": "execute_result",
          "data": {
            "text/plain": [
              "array([[ 1.01010101, -0.16508366,  0.04531947, -0.10286083, -0.12745817],\n",
              "       [-0.16508366,  1.01010101,  0.1240043 ,  0.03860081,  0.05773273],\n",
              "       [ 0.04531947,  0.1240043 ,  1.01010101,  0.00861068,  0.04325191],\n",
              "       [-0.10286083,  0.03860081,  0.00861068,  1.01010101,  0.01854391],\n",
              "       [-0.12745817,  0.05773273,  0.04325191,  0.01854391,  1.01010101]])"
            ]
          },
          "metadata": {},
          "execution_count": 9
        }
      ]
    },
    {
      "cell_type": "code",
      "source": [
        "%%writefile qr_decomposition.py\n",
        "import numpy as np\n",
        "\n",
        "def qr_decomposition(matrix: np.ndarray):\n",
        "  \"\"\"\n",
        "  Perform QR decomposition of a given matrix using the Gram-Schmidt process.\n",
        "\n",
        "  Args:\n",
        "    matrix (np.ndarray): The matrix which has to undergo QR decomposition.\n",
        "\n",
        "  Returns:\n",
        "    Q (np.array): The orthogonal matrix Q of the decomposition.\n",
        "    R (np.array): The upper triangular R of the decomposition.\n",
        "  \"\"\"\n",
        "  mat = np.copy(matrix)\n",
        "  num_cols = mat.shape[1]\n",
        "\n",
        "  v_vectors = []\n",
        "  u_vectors = []\n",
        "\n",
        "  for i in range(num_cols):\n",
        "    v_vectors.append(mat[:, i])\n",
        "\n",
        "  for i in range(num_cols):\n",
        "    if i == 0:\n",
        "      u_vectors.append(v_vectors[0] / np.linalg.norm(v_vectors[0]))\n",
        "    else:\n",
        "      u_vector = v_vectors[i]\n",
        "      for idx in range(i - 1, -1, -1):\n",
        "        u_vector -= np.dot(u_vectors[idx], v_vectors[i]) * u_vectors[idx]\n",
        "      u_vector /= np.linalg.norm(u_vector)\n",
        "      u_vectors.append(u_vector)\n",
        "\n",
        "  Q = np.array(u_vectors).T\n",
        "  R = np.dot(Q.T, matrix)\n",
        "\n",
        "  return Q, R"
      ],
      "metadata": {
        "colab": {
          "base_uri": "https://localhost:8080/"
        },
        "id": "7YSvqXL62wQA",
        "outputId": "34910d97-c06f-4a39-a7d9-fb98541e5c16"
      },
      "execution_count": 96,
      "outputs": [
        {
          "output_type": "stream",
          "name": "stdout",
          "text": [
            "Writing qr_decomposition.py\n"
          ]
        }
      ]
    },
    {
      "cell_type": "code",
      "source": [
        "mat = np.array([[2, 2, 1],\n",
        "                [-2, 1, 2],\n",
        "                [18, 0, 0]],\n",
        "                dtype=np.float64)"
      ],
      "metadata": {
        "id": "Pe-O5Dz05Bgb"
      },
      "execution_count": 75,
      "outputs": []
    },
    {
      "cell_type": "code",
      "source": [
        "mat"
      ],
      "metadata": {
        "colab": {
          "base_uri": "https://localhost:8080/"
        },
        "id": "dmDQk1hOBI7I",
        "outputId": "a7499f0b-6f29-4936-9201-53e518c5baae"
      },
      "execution_count": 63,
      "outputs": [
        {
          "output_type": "execute_result",
          "data": {
            "text/plain": [
              "array([[ 2.,  2.,  1.],\n",
              "       [-2.,  1.,  2.],\n",
              "       [18.,  0.,  0.]])"
            ]
          },
          "metadata": {},
          "execution_count": 63
        }
      ]
    },
    {
      "cell_type": "code",
      "source": [
        "q, r = qr_decomposition(mat)"
      ],
      "metadata": {
        "colab": {
          "base_uri": "https://localhost:8080/"
        },
        "id": "INT9it-SBJro",
        "outputId": "08d8fc59-af20-47ce-c2fe-e77c808c8d7f"
      },
      "execution_count": 64,
      "outputs": [
        {
          "output_type": "execute_result",
          "data": {
            "text/plain": [
              "(array([[ 0.10976426,  0.89011215, -0.44232587],\n",
              "        [-0.10976426,  0.453148  ,  0.88465174],\n",
              "        [ 0.98787834, -0.04855157,  0.14744196]]),\n",
              " array([[ 1.82208672e+01,  1.40864616e-17, -3.34803457e-17],\n",
              "        [ 2.08166817e-16,  1.00000000e+00, -3.39460091e-17],\n",
              "        [-6.10622664e-16, -3.39460091e-17,  1.00000000e+00]]))"
            ]
          },
          "metadata": {},
          "execution_count": 64
        }
      ]
    },
    {
      "cell_type": "code",
      "source": [
        "q.T @ r.T"
      ],
      "metadata": {
        "colab": {
          "base_uri": "https://localhost:8080/"
        },
        "id": "d3AhNOhgBK9u",
        "outputId": "47dee654-527b-4e34-ab82-b9a41382eb46"
      },
      "execution_count": 69,
      "outputs": [
        {
          "output_type": "execute_result",
          "data": {
            "text/plain": [
              "array([[ 2.        , -0.10976426,  0.98787834],\n",
              "       [16.21861518,  0.453148  , -0.04855157],\n",
              "       [-8.05956089,  0.88465174,  0.14744196]])"
            ]
          },
          "metadata": {},
          "execution_count": 69
        }
      ]
    },
    {
      "cell_type": "code",
      "source": [
        "num_cols = mat.shape[1]\n",
        "\n",
        "v_vectors = []\n",
        "u_vectors = []\n",
        "\n",
        "for i in range(num_cols):\n",
        "  v_vectors.append(mat[:, i])\n",
        "\n",
        "for i in range(num_cols):\n",
        "  if i == 0:\n",
        "    u_vectors.append(v_vectors[0] / np.linalg.norm(v_vectors[0]))\n",
        "  else:\n",
        "    u_vector = v_vectors[i]\n",
        "    for idx in range(i - 1, -1, -1):\n",
        "      u_vector -= np.dot(u_vectors[idx], v_vectors[i]) * u_vectors[idx]\n",
        "    u_vector /= np.linalg.norm(u_vector)\n",
        "    u_vectors.append(u_vector)"
      ],
      "metadata": {
        "id": "RzWDcCJCBMK0"
      },
      "execution_count": 70,
      "outputs": []
    },
    {
      "cell_type": "code",
      "source": [
        "u_vectors"
      ],
      "metadata": {
        "colab": {
          "base_uri": "https://localhost:8080/"
        },
        "id": "lZ_2IVN0Bp7F",
        "outputId": "35605f12-58f7-4673-c57b-4942d62097c8"
      },
      "execution_count": 71,
      "outputs": [
        {
          "output_type": "execute_result",
          "data": {
            "text/plain": [
              "[array([ 0.10976426, -0.10976426,  0.98787834]),\n",
              " array([ 0.89011215,  0.453148  , -0.04855157]),\n",
              " array([-0.44232587,  0.88465174,  0.14744196])]"
            ]
          },
          "metadata": {},
          "execution_count": 71
        }
      ]
    },
    {
      "cell_type": "code",
      "source": [
        "np.array(u_vectors).T"
      ],
      "metadata": {
        "colab": {
          "base_uri": "https://localhost:8080/"
        },
        "id": "IKXGQZ3sBrOf",
        "outputId": "0d4a4ca6-60cb-4865-f95e-cd8987ba78d4"
      },
      "execution_count": 73,
      "outputs": [
        {
          "output_type": "execute_result",
          "data": {
            "text/plain": [
              "array([[ 0.10976426,  0.89011215, -0.44232587],\n",
              "       [-0.10976426,  0.453148  ,  0.88465174],\n",
              "       [ 0.98787834, -0.04855157,  0.14744196]])"
            ]
          },
          "metadata": {},
          "execution_count": 73
        }
      ]
    },
    {
      "cell_type": "code",
      "source": [
        "Q.T @ mat"
      ],
      "metadata": {
        "colab": {
          "base_uri": "https://localhost:8080/"
        },
        "id": "2n0B9Z-nBt-1",
        "outputId": "f52b3043-6405-4a19-f7d8-a6ab38c1d061"
      },
      "execution_count": 81,
      "outputs": [
        {
          "output_type": "execute_result",
          "data": {
            "text/plain": [
              "array([[-36.44173432, -36.44173432, -18.22086716],\n",
              "       [  4.24721607,  -2.45290081,  -4.57650885],\n",
              "       [ 27.69794172,  -1.57687963,  -3.48305204]])"
            ]
          },
          "metadata": {},
          "execution_count": 81
        }
      ]
    },
    {
      "cell_type": "code",
      "source": [
        "mat"
      ],
      "metadata": {
        "colab": {
          "base_uri": "https://localhost:8080/"
        },
        "id": "VFkoDHB3CU-d",
        "outputId": "ec3a7342-1a8d-48a0-f158-d21c8a78fb65"
      },
      "execution_count": 74,
      "outputs": [
        {
          "output_type": "execute_result",
          "data": {
            "text/plain": [
              "array([[ 2.        ,  0.89011215, -0.44232587],\n",
              "       [-2.        ,  0.453148  ,  0.88465174],\n",
              "       [18.        , -0.04855157,  0.14744196]])"
            ]
          },
          "metadata": {},
          "execution_count": 74
        }
      ]
    },
    {
      "cell_type": "code",
      "source": [
        "mat"
      ],
      "metadata": {
        "colab": {
          "base_uri": "https://localhost:8080/"
        },
        "id": "ZBcoznSYCVYY",
        "outputId": "50b5cb1f-120a-4594-c8ff-636b3b544f91"
      },
      "execution_count": 80,
      "outputs": [
        {
          "output_type": "execute_result",
          "data": {
            "text/plain": [
              "array([[ 2.,  2.,  1.],\n",
              "       [-2.,  1.,  2.],\n",
              "       [18.,  0.,  0.]])"
            ]
          },
          "metadata": {},
          "execution_count": 80
        }
      ]
    },
    {
      "cell_type": "code",
      "source": [
        "mat = np.array([[2, 1],\n",
        "                [2, 1],\n",
        "                [1, 5]], dtype=np.float64)"
      ],
      "metadata": {
        "id": "ugm4haFVCaWF"
      },
      "execution_count": 85,
      "outputs": []
    },
    {
      "cell_type": "code",
      "source": [
        "q, r = qr_decomposition(mat)"
      ],
      "metadata": {
        "id": "9rk3a3DtDWK-"
      },
      "execution_count": 89,
      "outputs": []
    },
    {
      "cell_type": "code",
      "source": [
        "q.T @ mat"
      ],
      "metadata": {
        "colab": {
          "base_uri": "https://localhost:8080/"
        },
        "id": "6fJFHhn_DXq3",
        "outputId": "59f9fe44-ecc9-4461-bd0d-c51d077e7ceb"
      },
      "execution_count": 92,
      "outputs": [
        {
          "output_type": "execute_result",
          "data": {
            "text/plain": [
              "array([[3.        , 3.        ],\n",
              "       [0.        , 4.24264069]])"
            ]
          },
          "metadata": {},
          "execution_count": 92
        }
      ]
    }
  ]
}